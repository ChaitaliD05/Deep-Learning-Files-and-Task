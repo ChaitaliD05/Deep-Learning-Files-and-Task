{
  "nbformat": 4,
  "nbformat_minor": 0,
  "metadata": {
    "colab": {
      "name": "ASSIGNMENT 3_DL.ipynb",
      "provenance": [],
      "collapsed_sections": []
    },
    "kernelspec": {
      "name": "python3",
      "display_name": "Python 3"
    },
    "language_info": {
      "name": "python"
    }
  },
  "cells": [
    {
      "cell_type": "markdown",
      "source": [
        "**ASSIGNMENT 3:Create a Neural networking model on IRIS DATASET using tensorflow**"
      ],
      "metadata": {
        "id": "UdItp2gcTO6Y"
      }
    },
    {
      "cell_type": "code",
      "source": [
        "import tensorflow as tf\n",
        "from tensorflow.keras import layers\n",
        "import pandas as pd\n",
        "import numpy as np\n",
        "from sklearn import datasets\n",
        "from tensorflow.keras import datasets, layers, models\n",
        "from tensorflow.keras.utils import to_categorical\n",
        "from sklearn.datasets import load_iris"
      ],
      "metadata": {
        "id": "_oatv0vkTgcl"
      },
      "execution_count": 37,
      "outputs": []
    },
    {
      "cell_type": "code",
      "source": [
        "df=pd.read_csv('/content/Iris.csv')\n",
        "df.head(10)"
      ],
      "metadata": {
        "colab": {
          "base_uri": "https://localhost:8080/",
          "height": 363
        },
        "id": "6yFedvCGTgkV",
        "outputId": "e8402d95-b679-4384-b9bb-b67892c4ca3e"
      },
      "execution_count": 38,
      "outputs": [
        {
          "output_type": "execute_result",
          "data": {
            "text/html": [
              "\n",
              "  <div id=\"df-088b1542-e42c-4913-a368-15fc7a0e6cc6\">\n",
              "    <div class=\"colab-df-container\">\n",
              "      <div>\n",
              "<style scoped>\n",
              "    .dataframe tbody tr th:only-of-type {\n",
              "        vertical-align: middle;\n",
              "    }\n",
              "\n",
              "    .dataframe tbody tr th {\n",
              "        vertical-align: top;\n",
              "    }\n",
              "\n",
              "    .dataframe thead th {\n",
              "        text-align: right;\n",
              "    }\n",
              "</style>\n",
              "<table border=\"1\" class=\"dataframe\">\n",
              "  <thead>\n",
              "    <tr style=\"text-align: right;\">\n",
              "      <th></th>\n",
              "      <th>Id</th>\n",
              "      <th>SepalLengthCm</th>\n",
              "      <th>SepalWidthCm</th>\n",
              "      <th>PetalLengthCm</th>\n",
              "      <th>PetalWidthCm</th>\n",
              "      <th>Species</th>\n",
              "    </tr>\n",
              "  </thead>\n",
              "  <tbody>\n",
              "    <tr>\n",
              "      <th>0</th>\n",
              "      <td>1</td>\n",
              "      <td>5.1</td>\n",
              "      <td>3.5</td>\n",
              "      <td>1.4</td>\n",
              "      <td>0.2</td>\n",
              "      <td>Iris-setosa</td>\n",
              "    </tr>\n",
              "    <tr>\n",
              "      <th>1</th>\n",
              "      <td>2</td>\n",
              "      <td>4.9</td>\n",
              "      <td>3.0</td>\n",
              "      <td>1.4</td>\n",
              "      <td>0.2</td>\n",
              "      <td>Iris-setosa</td>\n",
              "    </tr>\n",
              "    <tr>\n",
              "      <th>2</th>\n",
              "      <td>3</td>\n",
              "      <td>4.7</td>\n",
              "      <td>3.2</td>\n",
              "      <td>1.3</td>\n",
              "      <td>0.2</td>\n",
              "      <td>Iris-setosa</td>\n",
              "    </tr>\n",
              "    <tr>\n",
              "      <th>3</th>\n",
              "      <td>4</td>\n",
              "      <td>4.6</td>\n",
              "      <td>3.1</td>\n",
              "      <td>1.5</td>\n",
              "      <td>0.2</td>\n",
              "      <td>Iris-setosa</td>\n",
              "    </tr>\n",
              "    <tr>\n",
              "      <th>4</th>\n",
              "      <td>5</td>\n",
              "      <td>5.0</td>\n",
              "      <td>3.6</td>\n",
              "      <td>1.4</td>\n",
              "      <td>0.2</td>\n",
              "      <td>Iris-setosa</td>\n",
              "    </tr>\n",
              "    <tr>\n",
              "      <th>5</th>\n",
              "      <td>6</td>\n",
              "      <td>5.4</td>\n",
              "      <td>3.9</td>\n",
              "      <td>1.7</td>\n",
              "      <td>0.4</td>\n",
              "      <td>Iris-setosa</td>\n",
              "    </tr>\n",
              "    <tr>\n",
              "      <th>6</th>\n",
              "      <td>7</td>\n",
              "      <td>4.6</td>\n",
              "      <td>3.4</td>\n",
              "      <td>1.4</td>\n",
              "      <td>0.3</td>\n",
              "      <td>Iris-setosa</td>\n",
              "    </tr>\n",
              "    <tr>\n",
              "      <th>7</th>\n",
              "      <td>8</td>\n",
              "      <td>5.0</td>\n",
              "      <td>3.4</td>\n",
              "      <td>1.5</td>\n",
              "      <td>0.2</td>\n",
              "      <td>Iris-setosa</td>\n",
              "    </tr>\n",
              "    <tr>\n",
              "      <th>8</th>\n",
              "      <td>9</td>\n",
              "      <td>4.4</td>\n",
              "      <td>2.9</td>\n",
              "      <td>1.4</td>\n",
              "      <td>0.2</td>\n",
              "      <td>Iris-setosa</td>\n",
              "    </tr>\n",
              "    <tr>\n",
              "      <th>9</th>\n",
              "      <td>10</td>\n",
              "      <td>4.9</td>\n",
              "      <td>3.1</td>\n",
              "      <td>1.5</td>\n",
              "      <td>0.1</td>\n",
              "      <td>Iris-setosa</td>\n",
              "    </tr>\n",
              "  </tbody>\n",
              "</table>\n",
              "</div>\n",
              "      <button class=\"colab-df-convert\" onclick=\"convertToInteractive('df-088b1542-e42c-4913-a368-15fc7a0e6cc6')\"\n",
              "              title=\"Convert this dataframe to an interactive table.\"\n",
              "              style=\"display:none;\">\n",
              "        \n",
              "  <svg xmlns=\"http://www.w3.org/2000/svg\" height=\"24px\"viewBox=\"0 0 24 24\"\n",
              "       width=\"24px\">\n",
              "    <path d=\"M0 0h24v24H0V0z\" fill=\"none\"/>\n",
              "    <path d=\"M18.56 5.44l.94 2.06.94-2.06 2.06-.94-2.06-.94-.94-2.06-.94 2.06-2.06.94zm-11 1L8.5 8.5l.94-2.06 2.06-.94-2.06-.94L8.5 2.5l-.94 2.06-2.06.94zm10 10l.94 2.06.94-2.06 2.06-.94-2.06-.94-.94-2.06-.94 2.06-2.06.94z\"/><path d=\"M17.41 7.96l-1.37-1.37c-.4-.4-.92-.59-1.43-.59-.52 0-1.04.2-1.43.59L10.3 9.45l-7.72 7.72c-.78.78-.78 2.05 0 2.83L4 21.41c.39.39.9.59 1.41.59.51 0 1.02-.2 1.41-.59l7.78-7.78 2.81-2.81c.8-.78.8-2.07 0-2.86zM5.41 20L4 18.59l7.72-7.72 1.47 1.35L5.41 20z\"/>\n",
              "  </svg>\n",
              "      </button>\n",
              "      \n",
              "  <style>\n",
              "    .colab-df-container {\n",
              "      display:flex;\n",
              "      flex-wrap:wrap;\n",
              "      gap: 12px;\n",
              "    }\n",
              "\n",
              "    .colab-df-convert {\n",
              "      background-color: #E8F0FE;\n",
              "      border: none;\n",
              "      border-radius: 50%;\n",
              "      cursor: pointer;\n",
              "      display: none;\n",
              "      fill: #1967D2;\n",
              "      height: 32px;\n",
              "      padding: 0 0 0 0;\n",
              "      width: 32px;\n",
              "    }\n",
              "\n",
              "    .colab-df-convert:hover {\n",
              "      background-color: #E2EBFA;\n",
              "      box-shadow: 0px 1px 2px rgba(60, 64, 67, 0.3), 0px 1px 3px 1px rgba(60, 64, 67, 0.15);\n",
              "      fill: #174EA6;\n",
              "    }\n",
              "\n",
              "    [theme=dark] .colab-df-convert {\n",
              "      background-color: #3B4455;\n",
              "      fill: #D2E3FC;\n",
              "    }\n",
              "\n",
              "    [theme=dark] .colab-df-convert:hover {\n",
              "      background-color: #434B5C;\n",
              "      box-shadow: 0px 1px 3px 1px rgba(0, 0, 0, 0.15);\n",
              "      filter: drop-shadow(0px 1px 2px rgba(0, 0, 0, 0.3));\n",
              "      fill: #FFFFFF;\n",
              "    }\n",
              "  </style>\n",
              "\n",
              "      <script>\n",
              "        const buttonEl =\n",
              "          document.querySelector('#df-088b1542-e42c-4913-a368-15fc7a0e6cc6 button.colab-df-convert');\n",
              "        buttonEl.style.display =\n",
              "          google.colab.kernel.accessAllowed ? 'block' : 'none';\n",
              "\n",
              "        async function convertToInteractive(key) {\n",
              "          const element = document.querySelector('#df-088b1542-e42c-4913-a368-15fc7a0e6cc6');\n",
              "          const dataTable =\n",
              "            await google.colab.kernel.invokeFunction('convertToInteractive',\n",
              "                                                     [key], {});\n",
              "          if (!dataTable) return;\n",
              "\n",
              "          const docLinkHtml = 'Like what you see? Visit the ' +\n",
              "            '<a target=\"_blank\" href=https://colab.research.google.com/notebooks/data_table.ipynb>data table notebook</a>'\n",
              "            + ' to learn more about interactive tables.';\n",
              "          element.innerHTML = '';\n",
              "          dataTable['output_type'] = 'display_data';\n",
              "          await google.colab.output.renderOutput(dataTable, element);\n",
              "          const docLink = document.createElement('div');\n",
              "          docLink.innerHTML = docLinkHtml;\n",
              "          element.appendChild(docLink);\n",
              "        }\n",
              "      </script>\n",
              "    </div>\n",
              "  </div>\n",
              "  "
            ],
            "text/plain": [
              "   Id  SepalLengthCm  SepalWidthCm  PetalLengthCm  PetalWidthCm      Species\n",
              "0   1            5.1           3.5            1.4           0.2  Iris-setosa\n",
              "1   2            4.9           3.0            1.4           0.2  Iris-setosa\n",
              "2   3            4.7           3.2            1.3           0.2  Iris-setosa\n",
              "3   4            4.6           3.1            1.5           0.2  Iris-setosa\n",
              "4   5            5.0           3.6            1.4           0.2  Iris-setosa\n",
              "5   6            5.4           3.9            1.7           0.4  Iris-setosa\n",
              "6   7            4.6           3.4            1.4           0.3  Iris-setosa\n",
              "7   8            5.0           3.4            1.5           0.2  Iris-setosa\n",
              "8   9            4.4           2.9            1.4           0.2  Iris-setosa\n",
              "9  10            4.9           3.1            1.5           0.1  Iris-setosa"
            ]
          },
          "metadata": {},
          "execution_count": 38
        }
      ]
    },
    {
      "cell_type": "code",
      "source": [
        "df.shape"
      ],
      "metadata": {
        "colab": {
          "base_uri": "https://localhost:8080/"
        },
        "id": "K3y9KVAmTgpv",
        "outputId": "29771fe3-3d2f-4dcd-9ec5-e81dfc776f32"
      },
      "execution_count": 39,
      "outputs": [
        {
          "output_type": "execute_result",
          "data": {
            "text/plain": [
              "(150, 6)"
            ]
          },
          "metadata": {},
          "execution_count": 39
        }
      ]
    },
    {
      "cell_type": "code",
      "source": [
        "#dont want ID column so i drop\n",
        "df.drop(labels=['Id'],axis=1,inplace=True)\n",
        "print(df)"
      ],
      "metadata": {
        "colab": {
          "base_uri": "https://localhost:8080/"
        },
        "id": "DQxiw_whXvIh",
        "outputId": "8304a7b7-7521-4f08-f78d-5a98db2b99d2"
      },
      "execution_count": 41,
      "outputs": [
        {
          "output_type": "stream",
          "name": "stdout",
          "text": [
            "     SepalLengthCm  SepalWidthCm  PetalLengthCm  PetalWidthCm         Species\n",
            "0              5.1           3.5            1.4           0.2     Iris-setosa\n",
            "1              4.9           3.0            1.4           0.2     Iris-setosa\n",
            "2              4.7           3.2            1.3           0.2     Iris-setosa\n",
            "3              4.6           3.1            1.5           0.2     Iris-setosa\n",
            "4              5.0           3.6            1.4           0.2     Iris-setosa\n",
            "..             ...           ...            ...           ...             ...\n",
            "145            6.7           3.0            5.2           2.3  Iris-virginica\n",
            "146            6.3           2.5            5.0           1.9  Iris-virginica\n",
            "147            6.5           3.0            5.2           2.0  Iris-virginica\n",
            "148            6.2           3.4            5.4           2.3  Iris-virginica\n",
            "149            5.9           3.0            5.1           1.8  Iris-virginica\n",
            "\n",
            "[150 rows x 5 columns]\n"
          ]
        }
      ]
    },
    {
      "cell_type": "code",
      "source": [
        "df.dtypes"
      ],
      "metadata": {
        "colab": {
          "base_uri": "https://localhost:8080/"
        },
        "id": "Ej3PuTRuZm-_",
        "outputId": "397440d4-bf25-48ab-a8b1-25d25d83811c"
      },
      "execution_count": 51,
      "outputs": [
        {
          "output_type": "execute_result",
          "data": {
            "text/plain": [
              "SepalLengthCm    float64\n",
              "SepalWidthCm     float64\n",
              "PetalLengthCm    float64\n",
              "PetalWidthCm     float64\n",
              "Species           object\n",
              "dtype: object"
            ]
          },
          "metadata": {},
          "execution_count": 51
        }
      ]
    },
    {
      "cell_type": "code",
      "source": [
        "#split the data into 2 \n",
        "x=df.iloc[:,:-1].values\n",
        "y=df.iloc[:,4].values"
      ],
      "metadata": {
        "id": "PceBQZQoV0w9"
      },
      "execution_count": 57,
      "outputs": []
    },
    {
      "cell_type": "code",
      "source": [
        "#categorial to numeric\n",
        "df[\"Species\"].map({\"Iris-setosa\":0,\"Iris-virginica\":1,\"Iris-versicolor\":2})"
      ],
      "metadata": {
        "colab": {
          "base_uri": "https://localhost:8080/"
        },
        "id": "Bw0qKYNqV0zn",
        "outputId": "a6c98b1b-3468-492b-92b1-6e203ec699da"
      },
      "execution_count": 46,
      "outputs": [
        {
          "output_type": "execute_result",
          "data": {
            "text/plain": [
              "0      0\n",
              "1      0\n",
              "2      0\n",
              "3      0\n",
              "4      0\n",
              "      ..\n",
              "145    1\n",
              "146    1\n",
              "147    1\n",
              "148    1\n",
              "149    1\n",
              "Name: Species, Length: 150, dtype: int64"
            ]
          },
          "metadata": {},
          "execution_count": 46
        }
      ]
    },
    {
      "cell_type": "markdown",
      "source": [
        "SPLIT THE DATASET"
      ],
      "metadata": {
        "id": "-olZM0ZEYzdh"
      }
    },
    {
      "cell_type": "code",
      "source": [
        "from sklearn.preprocessing import LabelEncoder\n",
        "encoder =  LabelEncoder()\n",
        "y1=encoder.fit_transform(y)"
      ],
      "metadata": {
        "id": "JNIkTk4CcJJG"
      },
      "execution_count": 77,
      "outputs": []
    },
    {
      "cell_type": "code",
      "source": [
        "y1"
      ],
      "metadata": {
        "colab": {
          "base_uri": "https://localhost:8080/"
        },
        "id": "EIu6bqa9cK4P",
        "outputId": "66b852c9-a7eb-4c00-8950-90b596cc484f"
      },
      "execution_count": 78,
      "outputs": [
        {
          "output_type": "execute_result",
          "data": {
            "text/plain": [
              "array([0, 0, 0, 0, 0, 0, 0, 0, 0, 0, 0, 0, 0, 0, 0, 0, 0, 0, 0, 0, 0, 0,\n",
              "       0, 0, 0, 0, 0, 0, 0, 0, 0, 0, 0, 0, 0, 0, 0, 0, 0, 0, 0, 0, 0, 0,\n",
              "       0, 0, 0, 0, 0, 0, 1, 1, 1, 1, 1, 1, 1, 1, 1, 1, 1, 1, 1, 1, 1, 1,\n",
              "       1, 1, 1, 1, 1, 1, 1, 1, 1, 1, 1, 1, 1, 1, 1, 1, 1, 1, 1, 1, 1, 1,\n",
              "       1, 1, 1, 1, 1, 1, 1, 1, 1, 1, 1, 1, 2, 2, 2, 2, 2, 2, 2, 2, 2, 2,\n",
              "       2, 2, 2, 2, 2, 2, 2, 2, 2, 2, 2, 2, 2, 2, 2, 2, 2, 2, 2, 2, 2, 2,\n",
              "       2, 2, 2, 2, 2, 2, 2, 2, 2, 2, 2, 2, 2, 2, 2, 2, 2, 2])"
            ]
          },
          "metadata": {},
          "execution_count": 78
        }
      ]
    },
    {
      "cell_type": "code",
      "source": [
        "y= pd.get_dummies(y1).values\n",
        "print(y[0:5])"
      ],
      "metadata": {
        "colab": {
          "base_uri": "https://localhost:8080/"
        },
        "id": "9m_K5_W2cTW8",
        "outputId": "8fd08177-a227-4cac-8ddc-260e9d9a1397"
      },
      "execution_count": 80,
      "outputs": [
        {
          "output_type": "stream",
          "name": "stdout",
          "text": [
            "[[1 0 0]\n",
            " [1 0 0]\n",
            " [1 0 0]\n",
            " [1 0 0]\n",
            " [1 0 0]]\n"
          ]
        }
      ]
    },
    {
      "cell_type": "code",
      "source": [
        "from sklearn.model_selection import train_test_split\n",
        "x_train,x_test,y_train,y_test=train_test_split(x,y,test_size=0.3, random_state=43)"
      ],
      "metadata": {
        "id": "djjVJ-ZXYyx5"
      },
      "execution_count": 83,
      "outputs": []
    },
    {
      "cell_type": "markdown",
      "source": [
        "applying layers and model creation"
      ],
      "metadata": {
        "id": "Bdmx9HsbdL-v"
      }
    },
    {
      "cell_type": "code",
      "source": [
        "model = tf.keras.Sequential([\n",
        "    tf.keras.layers.Dense(10, activation='relu'),\n",
        "    tf.keras.layers.Dense(10, activation='relu'),\n",
        "    tf.keras.layers.Dense(3)\n",
        "  ])\n",
        "model"
      ],
      "metadata": {
        "colab": {
          "base_uri": "https://localhost:8080/"
        },
        "id": "M7HQ5Dq9Yk_A",
        "outputId": "9262d60f-63e1-49fb-9697-34d33f80c5dd"
      },
      "execution_count": 84,
      "outputs": [
        {
          "output_type": "execute_result",
          "data": {
            "text/plain": [
              "<keras.engine.sequential.Sequential at 0x7f433571c050>"
            ]
          },
          "metadata": {},
          "execution_count": 84
        }
      ]
    },
    {
      "cell_type": "markdown",
      "source": [
        "compiling model"
      ],
      "metadata": {
        "id": "6sV2wv6mdUEn"
      }
    },
    {
      "cell_type": "code",
      "source": [
        "model.compile(optimizer='adam',\n",
        "              loss='categorical_crossentropy',\n",
        "              metrics=['accuracy'])"
      ],
      "metadata": {
        "id": "SLss35PJYlCR"
      },
      "execution_count": 85,
      "outputs": []
    },
    {
      "cell_type": "markdown",
      "source": [
        "fit the model"
      ],
      "metadata": {
        "id": "GWgxp7GOdYCN"
      }
    },
    {
      "cell_type": "code",
      "source": [
        "model.fit(x_train, y_train, batch_size=50, epochs=100)"
      ],
      "metadata": {
        "colab": {
          "base_uri": "https://localhost:8080/"
        },
        "id": "NMOkGiFtbA4C",
        "outputId": "437c469f-ac45-45d7-fd08-1246fccfcdbe"
      },
      "execution_count": 86,
      "outputs": [
        {
          "output_type": "stream",
          "name": "stdout",
          "text": [
            "Epoch 1/100\n",
            "3/3 [==============================] - 1s 6ms/step - loss: 2.8542 - accuracy: 0.3524\n",
            "Epoch 2/100\n",
            "3/3 [==============================] - 0s 5ms/step - loss: 1.8333 - accuracy: 0.3524\n",
            "Epoch 3/100\n",
            "3/3 [==============================] - 0s 6ms/step - loss: 1.5331 - accuracy: 0.3524\n",
            "Epoch 4/100\n",
            "3/3 [==============================] - 0s 5ms/step - loss: 1.4512 - accuracy: 0.3524\n",
            "Epoch 5/100\n",
            "3/3 [==============================] - 0s 5ms/step - loss: 1.4038 - accuracy: 0.3524\n",
            "Epoch 6/100\n",
            "3/3 [==============================] - 0s 7ms/step - loss: 1.3687 - accuracy: 0.3524\n",
            "Epoch 7/100\n",
            "3/3 [==============================] - 0s 6ms/step - loss: 1.3405 - accuracy: 0.3524\n",
            "Epoch 8/100\n",
            "3/3 [==============================] - 0s 6ms/step - loss: 1.3157 - accuracy: 0.3524\n",
            "Epoch 9/100\n",
            "3/3 [==============================] - 0s 8ms/step - loss: 1.2948 - accuracy: 0.3524\n",
            "Epoch 10/100\n",
            "3/3 [==============================] - 0s 5ms/step - loss: 1.2770 - accuracy: 0.3524\n",
            "Epoch 11/100\n",
            "3/3 [==============================] - 0s 8ms/step - loss: 1.2600 - accuracy: 0.3524\n",
            "Epoch 12/100\n",
            "3/3 [==============================] - 0s 5ms/step - loss: 1.2455 - accuracy: 0.3524\n",
            "Epoch 13/100\n",
            "3/3 [==============================] - 0s 6ms/step - loss: 1.2306 - accuracy: 0.3429\n",
            "Epoch 14/100\n",
            "3/3 [==============================] - 0s 6ms/step - loss: 1.2181 - accuracy: 0.3238\n",
            "Epoch 15/100\n",
            "3/3 [==============================] - 0s 6ms/step - loss: 1.2054 - accuracy: 0.3238\n",
            "Epoch 16/100\n",
            "3/3 [==============================] - 0s 6ms/step - loss: 1.1933 - accuracy: 0.3143\n",
            "Epoch 17/100\n",
            "3/3 [==============================] - 0s 7ms/step - loss: 1.1816 - accuracy: 0.3048\n",
            "Epoch 18/100\n",
            "3/3 [==============================] - 0s 8ms/step - loss: 1.1709 - accuracy: 0.2952\n",
            "Epoch 19/100\n",
            "3/3 [==============================] - 0s 8ms/step - loss: 1.1599 - accuracy: 0.2476\n",
            "Epoch 20/100\n",
            "3/3 [==============================] - 0s 7ms/step - loss: 1.1499 - accuracy: 0.2381\n",
            "Epoch 21/100\n",
            "3/3 [==============================] - 0s 7ms/step - loss: 1.1399 - accuracy: 0.2286\n",
            "Epoch 22/100\n",
            "3/3 [==============================] - 0s 5ms/step - loss: 1.1305 - accuracy: 0.2190\n",
            "Epoch 23/100\n",
            "3/3 [==============================] - 0s 5ms/step - loss: 1.1210 - accuracy: 0.2095\n",
            "Epoch 24/100\n",
            "3/3 [==============================] - 0s 7ms/step - loss: 1.1121 - accuracy: 0.2095\n",
            "Epoch 25/100\n",
            "3/3 [==============================] - 0s 6ms/step - loss: 1.1038 - accuracy: 0.2095\n",
            "Epoch 26/100\n",
            "3/3 [==============================] - 0s 9ms/step - loss: 1.0956 - accuracy: 0.2000\n",
            "Epoch 27/100\n",
            "3/3 [==============================] - 0s 6ms/step - loss: 1.0870 - accuracy: 0.2000\n",
            "Epoch 28/100\n",
            "3/3 [==============================] - 0s 6ms/step - loss: 1.0787 - accuracy: 0.1905\n",
            "Epoch 29/100\n",
            "3/3 [==============================] - 0s 6ms/step - loss: 1.0699 - accuracy: 0.1905\n",
            "Epoch 30/100\n",
            "3/3 [==============================] - 0s 6ms/step - loss: 1.0613 - accuracy: 0.1429\n",
            "Epoch 31/100\n",
            "3/3 [==============================] - 0s 5ms/step - loss: 1.0528 - accuracy: 0.1048\n",
            "Epoch 32/100\n",
            "3/3 [==============================] - 0s 5ms/step - loss: 1.0438 - accuracy: 0.0762\n",
            "Epoch 33/100\n",
            "3/3 [==============================] - 0s 4ms/step - loss: 1.0353 - accuracy: 0.0571\n",
            "Epoch 34/100\n",
            "3/3 [==============================] - 0s 5ms/step - loss: 1.0267 - accuracy: 0.0476\n",
            "Epoch 35/100\n",
            "3/3 [==============================] - 0s 5ms/step - loss: 1.0185 - accuracy: 0.0286\n",
            "Epoch 36/100\n",
            "3/3 [==============================] - 0s 6ms/step - loss: 1.0102 - accuracy: 0.0190\n",
            "Epoch 37/100\n",
            "3/3 [==============================] - 0s 6ms/step - loss: 1.0011 - accuracy: 0.0000e+00\n",
            "Epoch 38/100\n",
            "3/3 [==============================] - 0s 6ms/step - loss: 0.9925 - accuracy: 0.0000e+00\n",
            "Epoch 39/100\n",
            "3/3 [==============================] - 0s 7ms/step - loss: 0.9829 - accuracy: 0.0000e+00\n",
            "Epoch 40/100\n",
            "3/3 [==============================] - 0s 7ms/step - loss: 0.9741 - accuracy: 0.0000e+00\n",
            "Epoch 41/100\n",
            "3/3 [==============================] - 0s 7ms/step - loss: 0.9644 - accuracy: 0.0000e+00\n",
            "Epoch 42/100\n",
            "3/3 [==============================] - 0s 7ms/step - loss: 0.9547 - accuracy: 0.0000e+00\n",
            "Epoch 43/100\n",
            "3/3 [==============================] - 0s 6ms/step - loss: 0.9452 - accuracy: 0.0000e+00\n",
            "Epoch 44/100\n",
            "3/3 [==============================] - 0s 5ms/step - loss: 0.9354 - accuracy: 0.0000e+00\n",
            "Epoch 45/100\n",
            "3/3 [==============================] - 0s 5ms/step - loss: 0.9257 - accuracy: 0.0000e+00\n",
            "Epoch 46/100\n",
            "3/3 [==============================] - 0s 7ms/step - loss: 0.9156 - accuracy: 0.0000e+00\n",
            "Epoch 47/100\n",
            "3/3 [==============================] - 0s 5ms/step - loss: 0.9049 - accuracy: 0.0000e+00\n",
            "Epoch 48/100\n",
            "3/3 [==============================] - 0s 5ms/step - loss: 0.8939 - accuracy: 0.0000e+00\n",
            "Epoch 49/100\n",
            "3/3 [==============================] - 0s 7ms/step - loss: 0.8826 - accuracy: 0.0000e+00\n",
            "Epoch 50/100\n",
            "3/3 [==============================] - 0s 8ms/step - loss: 0.8703 - accuracy: 0.0000e+00\n",
            "Epoch 51/100\n",
            "3/3 [==============================] - 0s 7ms/step - loss: 0.8572 - accuracy: 0.0000e+00\n",
            "Epoch 52/100\n",
            "3/3 [==============================] - 0s 7ms/step - loss: 0.8430 - accuracy: 0.0000e+00\n",
            "Epoch 53/100\n",
            "3/3 [==============================] - 0s 6ms/step - loss: 0.8286 - accuracy: 0.0000e+00\n",
            "Epoch 54/100\n",
            "3/3 [==============================] - 0s 5ms/step - loss: 0.8135 - accuracy: 0.0000e+00\n",
            "Epoch 55/100\n",
            "3/3 [==============================] - 0s 8ms/step - loss: 0.7963 - accuracy: 0.0000e+00\n",
            "Epoch 56/100\n",
            "3/3 [==============================] - 0s 9ms/step - loss: 0.7782 - accuracy: 0.0000e+00\n",
            "Epoch 57/100\n",
            "3/3 [==============================] - 0s 6ms/step - loss: 0.7591 - accuracy: 0.0000e+00\n",
            "Epoch 58/100\n",
            "3/3 [==============================] - 0s 5ms/step - loss: 0.7372 - accuracy: 0.0000e+00\n",
            "Epoch 59/100\n",
            "3/3 [==============================] - 0s 6ms/step - loss: 0.7137 - accuracy: 0.0000e+00\n",
            "Epoch 60/100\n",
            "3/3 [==============================] - 0s 8ms/step - loss: 0.6874 - accuracy: 0.0000e+00\n",
            "Epoch 61/100\n",
            "3/3 [==============================] - 0s 7ms/step - loss: 0.6582 - accuracy: 0.0000e+00\n",
            "Epoch 62/100\n",
            "3/3 [==============================] - 0s 4ms/step - loss: 0.6253 - accuracy: 0.0000e+00\n",
            "Epoch 63/100\n",
            "3/3 [==============================] - 0s 4ms/step - loss: 0.5869 - accuracy: 0.0000e+00\n",
            "Epoch 64/100\n",
            "3/3 [==============================] - 0s 5ms/step - loss: 0.5435 - accuracy: 0.0000e+00\n",
            "Epoch 65/100\n",
            "3/3 [==============================] - 0s 5ms/step - loss: 0.4918 - accuracy: 0.0000e+00\n",
            "Epoch 66/100\n",
            "3/3 [==============================] - 0s 5ms/step - loss: 0.4382 - accuracy: 0.0000e+00\n",
            "Epoch 67/100\n",
            "3/3 [==============================] - 0s 4ms/step - loss: 0.3863 - accuracy: 0.0000e+00\n",
            "Epoch 68/100\n",
            "3/3 [==============================] - 0s 5ms/step - loss: 0.3342 - accuracy: 0.0000e+00\n",
            "Epoch 69/100\n",
            "3/3 [==============================] - 0s 5ms/step - loss: 0.2732 - accuracy: 0.0000e+00\n",
            "Epoch 70/100\n",
            "3/3 [==============================] - 0s 5ms/step - loss: 0.1967 - accuracy: 0.0000e+00\n",
            "Epoch 71/100\n",
            "3/3 [==============================] - 0s 5ms/step - loss: 0.1059 - accuracy: 0.0000e+00\n",
            "Epoch 72/100\n",
            "3/3 [==============================] - 0s 5ms/step - loss: 0.9349 - accuracy: 0.0000e+00\n",
            "Epoch 73/100\n",
            "3/3 [==============================] - 0s 8ms/step - loss: 4.1447 - accuracy: 0.0000e+00\n",
            "Epoch 74/100\n",
            "3/3 [==============================] - 0s 6ms/step - loss: 5.3727 - accuracy: 0.0000e+00\n",
            "Epoch 75/100\n",
            "3/3 [==============================] - 0s 7ms/step - loss: 5.3727 - accuracy: 0.0000e+00\n",
            "Epoch 76/100\n",
            "3/3 [==============================] - 0s 5ms/step - loss: 4.7385 - accuracy: 0.0000e+00\n",
            "Epoch 77/100\n",
            "3/3 [==============================] - 0s 6ms/step - loss: 1.3663 - accuracy: 0.0286\n",
            "Epoch 78/100\n",
            "3/3 [==============================] - 0s 8ms/step - loss: 0.2731 - accuracy: 0.2762\n",
            "Epoch 79/100\n",
            "3/3 [==============================] - 0s 6ms/step - loss: 0.1702 - accuracy: 0.3333\n",
            "Epoch 80/100\n",
            "3/3 [==============================] - 0s 4ms/step - loss: 0.4605 - accuracy: 0.3333\n",
            "Epoch 81/100\n",
            "3/3 [==============================] - 0s 5ms/step - loss: 0.6140 - accuracy: 0.3333\n",
            "Epoch 82/100\n",
            "3/3 [==============================] - 0s 5ms/step - loss: 0.7675 - accuracy: 0.3333\n",
            "Epoch 83/100\n",
            "3/3 [==============================] - 0s 6ms/step - loss: 1.2280 - accuracy: 0.3333\n",
            "Epoch 84/100\n",
            "3/3 [==============================] - 0s 5ms/step - loss: 1.2280 - accuracy: 0.3333\n",
            "Epoch 85/100\n",
            "3/3 [==============================] - 0s 6ms/step - loss: 1.5351 - accuracy: 0.3333\n",
            "Epoch 86/100\n",
            "3/3 [==============================] - 0s 6ms/step - loss: 1.6886 - accuracy: 0.3333\n",
            "Epoch 87/100\n",
            "3/3 [==============================] - 0s 4ms/step - loss: 1.8421 - accuracy: 0.3333\n",
            "Epoch 88/100\n",
            "3/3 [==============================] - 0s 5ms/step - loss: 1.8421 - accuracy: 0.3333\n",
            "Epoch 89/100\n",
            "3/3 [==============================] - 0s 5ms/step - loss: 1.9956 - accuracy: 0.3333\n",
            "Epoch 90/100\n",
            "3/3 [==============================] - 0s 5ms/step - loss: 1.9956 - accuracy: 0.3333\n",
            "Epoch 91/100\n",
            "3/3 [==============================] - 0s 7ms/step - loss: 2.1491 - accuracy: 0.3333\n",
            "Epoch 92/100\n",
            "3/3 [==============================] - 0s 7ms/step - loss: 2.1491 - accuracy: 0.3333\n",
            "Epoch 93/100\n",
            "3/3 [==============================] - 0s 6ms/step - loss: 2.1491 - accuracy: 0.3333\n",
            "Epoch 94/100\n",
            "3/3 [==============================] - 0s 6ms/step - loss: 2.1491 - accuracy: 0.3333\n",
            "Epoch 95/100\n",
            "3/3 [==============================] - 0s 4ms/step - loss: 2.1491 - accuracy: 0.3333\n",
            "Epoch 96/100\n",
            "3/3 [==============================] - 0s 5ms/step - loss: 2.1491 - accuracy: 0.3333\n",
            "Epoch 97/100\n",
            "3/3 [==============================] - 0s 4ms/step - loss: 2.1491 - accuracy: 0.3333\n",
            "Epoch 98/100\n",
            "3/3 [==============================] - 0s 6ms/step - loss: 2.3026 - accuracy: 0.3333\n",
            "Epoch 99/100\n",
            "3/3 [==============================] - 0s 8ms/step - loss: 2.3026 - accuracy: 0.3333\n",
            "Epoch 100/100\n",
            "3/3 [==============================] - 0s 7ms/step - loss: 2.3026 - accuracy: 0.3333\n"
          ]
        },
        {
          "output_type": "execute_result",
          "data": {
            "text/plain": [
              "<keras.callbacks.History at 0x7f43377a6950>"
            ]
          },
          "metadata": {},
          "execution_count": 86
        }
      ]
    },
    {
      "cell_type": "markdown",
      "source": [
        "accuracy"
      ],
      "metadata": {
        "id": "xKM07qDwdel6"
      }
    },
    {
      "cell_type": "code",
      "source": [
        "loss,accuracy = model.evaluate(x_test, y_test,)\n",
        "print('loss:',loss)\n",
        "print('accuracy:',accuracy)"
      ],
      "metadata": {
        "colab": {
          "base_uri": "https://localhost:8080/"
        },
        "id": "uftRV98zbA61",
        "outputId": "dd8bc718-d2b2-45f8-de9b-dabb8f1af2f2"
      },
      "execution_count": 88,
      "outputs": [
        {
          "output_type": "stream",
          "name": "stdout",
          "text": [
            "2/2 [==============================] - 0s 6ms/step - loss: 4.6563 - accuracy: 0.3333\n",
            "loss: 4.656338691711426\n",
            "accuracy: 0.3333333432674408\n"
          ]
        }
      ]
    },
    {
      "cell_type": "markdown",
      "source": [
        "prediction"
      ],
      "metadata": {
        "id": "Uf0iZnq_diXz"
      }
    },
    {
      "cell_type": "code",
      "source": [
        "y_pred = model.predict(x_test)\n",
        "y_pred"
      ],
      "metadata": {
        "colab": {
          "base_uri": "https://localhost:8080/"
        },
        "id": "2CxPc9vgbA9e",
        "outputId": "ead9925f-cfc0-4d59-c4ac-f2081a3d67bd"
      },
      "execution_count": 91,
      "outputs": [
        {
          "output_type": "execute_result",
          "data": {
            "text/plain": [
              "array([[ 1.5497898 , -0.29614258, -0.57398236],\n",
              "       [ 1.503166  , -0.23518819, -0.5183089 ],\n",
              "       [ 3.6332605 , -1.6664312 , -2.1493552 ],\n",
              "       [ 2.9511876 , -1.250936  , -1.5796219 ],\n",
              "       [ 4.589555  , -2.2346594 , -2.589184  ],\n",
              "       [ 1.5422333 , -0.2637136 , -0.5437817 ],\n",
              "       [ 3.709519  , -1.7717712 , -2.2382812 ],\n",
              "       [ 3.0741572 , -1.3405092 , -1.6964823 ],\n",
              "       [ 2.7486782 , -1.166338  , -1.4754444 ],\n",
              "       [ 2.5407636 , -1.0203152 , -1.3843712 ],\n",
              "       [ 1.3806866 , -0.21329936, -0.4926823 ],\n",
              "       [ 3.5007489 , -1.6061468 , -1.9024614 ],\n",
              "       [ 4.6109843 , -2.2097228 , -2.4802625 ],\n",
              "       [ 1.572034  , -0.3017038 , -0.5991488 ],\n",
              "       [ 3.362069  , -1.4999812 , -1.9172362 ],\n",
              "       [ 3.2048814 , -1.404798  , -1.770055  ],\n",
              "       [ 1.7394079 , -0.32095057, -0.6389049 ],\n",
              "       [ 1.4084467 , -0.21562758, -0.4848014 ],\n",
              "       [ 3.981539  , -1.9205143 , -2.4606922 ],\n",
              "       [ 4.4829206 , -2.2135174 , -2.8175356 ],\n",
              "       [ 1.4642321 , -0.23672566, -0.5065433 ],\n",
              "       [ 1.4991786 , -0.27204782, -0.5429239 ],\n",
              "       [ 1.4637877 , -0.25163755, -0.52273273],\n",
              "       [ 3.7784574 , -1.7245836 , -2.0749078 ],\n",
              "       [ 3.6080837 , -1.6707919 , -2.0920663 ],\n",
              "       [ 4.7959228 , -2.3545794 , -2.6457987 ],\n",
              "       [ 1.5479981 , -0.2621491 , -0.5454319 ],\n",
              "       [ 3.1165977 , -1.3350456 , -1.780105  ],\n",
              "       [ 1.4121976 , -0.20939589, -0.48795456],\n",
              "       [ 1.5811588 , -0.26166356, -0.54744256],\n",
              "       [ 3.14316   , -1.3602047 , -1.782466  ],\n",
              "       [ 1.6167241 , -0.2980892 , -0.60445976],\n",
              "       [ 2.5370708 , -1.0433252 , -1.3880459 ],\n",
              "       [ 2.5005107 , -0.992196  , -1.354432  ],\n",
              "       [ 4.0470767 , -1.916888  , -2.2240627 ],\n",
              "       [ 3.9443765 , -1.8891637 , -2.3555498 ],\n",
              "       [ 3.493847  , -1.5709083 , -1.9218776 ],\n",
              "       [ 4.2785234 , -2.059693  , -2.55334   ],\n",
              "       [ 2.9412472 , -1.2786903 , -1.4638381 ],\n",
              "       [ 3.3652072 , -1.5048823 , -1.9862942 ],\n",
              "       [ 2.877255  , -1.242631  , -1.5805627 ],\n",
              "       [ 3.7410188 , -1.773958  , -2.2576087 ],\n",
              "       [ 2.824016  , -1.220835  , -1.5511123 ],\n",
              "       [ 3.6974118 , -1.7153509 , -2.1098902 ],\n",
              "       [ 1.2968494 , -0.12821025, -0.4270931 ]], dtype=float32)"
            ]
          },
          "metadata": {},
          "execution_count": 91
        }
      ]
    }
  ]
}