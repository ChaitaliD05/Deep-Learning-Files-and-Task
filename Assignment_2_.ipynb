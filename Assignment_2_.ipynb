{
  "nbformat": 4,
  "nbformat_minor": 0,
  "metadata": {
    "colab": {
      "name": "Assignment 2 .ipynb",
      "provenance": []
    },
    "kernelspec": {
      "name": "python3",
      "display_name": "Python 3"
    },
    "language_info": {
      "name": "python"
    }
  },
  "cells": [
    {
      "cell_type": "markdown",
      "source": [
        "ASSIGNMENT 2"
      ],
      "metadata": {
        "id": "zMzBbiQY78Ur"
      }
    },
    {
      "cell_type": "code",
      "source": [
        "import pandas as pd\n",
        "import numpy as np\n",
        "import math "
      ],
      "metadata": {
        "id": "0jYWIqfpymEb"
      },
      "execution_count": 1,
      "outputs": []
    },
    {
      "cell_type": "code",
      "source": [
        "ytrue=[0.70,0,1,0.30,0.5]\n",
        "ypred=[1,0,0,1,1]"
      ],
      "metadata": {
        "id": "iugN2nqq8DfR"
      },
      "execution_count": 2,
      "outputs": []
    },
    {
      "cell_type": "code",
      "source": [
        "error = 0.0\n",
        "    \n",
        "for i in range(len(ytrue)):\n",
        "        prediction_error =  ytrue[i] - ypred[i]\n",
        "        error += (prediction_error ** 2)\n",
        "mean_error = error / float(len(ytrue))\n",
        "mean_error"
      ],
      "metadata": {
        "colab": {
          "base_uri": "https://localhost:8080/"
        },
        "id": "lnRXSBOw8bRf",
        "outputId": "19e0d988-e597-46d4-88e8-b554b48eff09"
      },
      "execution_count": 3,
      "outputs": [
        {
          "output_type": "execute_result",
          "data": {
            "text/plain": [
              "0.366"
            ]
          },
          "metadata": {},
          "execution_count": 3
        }
      ]
    },
    {
      "cell_type": "code",
      "source": [
        "import math\n",
        "ytrue=np.array([0.70,0,1,0.30,0.5])\n",
        "ypred=np.array([1,0,0,1,1])\n",
        "MSE = np.square(ytrue-ypred).mean() \n",
        "MSE"
      ],
      "metadata": {
        "colab": {
          "base_uri": "https://localhost:8080/"
        },
        "id": "LDpWwptP8bUs",
        "outputId": "63a02f1d-fe71-4076-ad01-d50a77cd1d0c"
      },
      "execution_count": 4,
      "outputs": [
        {
          "output_type": "execute_result",
          "data": {
            "text/plain": [
              "0.366"
            ]
          },
          "metadata": {},
          "execution_count": 4
        }
      ]
    }
  ]
}