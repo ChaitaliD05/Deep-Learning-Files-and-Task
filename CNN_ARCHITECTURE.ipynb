{
  "nbformat": 4,
  "nbformat_minor": 0,
  "metadata": {
    "colab": {
      "name": "CNN_ARCHITECTURE.ipynb",
      "provenance": [],
      "collapsed_sections": [],
      "authorship_tag": "ABX9TyMN7xl2AyVA1uw2zDl5xjL0",
      "include_colab_link": true
    },
    "kernelspec": {
      "name": "python3",
      "display_name": "Python 3"
    },
    "language_info": {
      "name": "python"
    }
  },
  "cells": [
    {
      "cell_type": "markdown",
      "metadata": {
        "id": "view-in-github",
        "colab_type": "text"
      },
      "source": [
        "<a href=\"https://colab.research.google.com/github/ChaitaliD05/Deep-Learning-Files-and-Task/blob/master/CNN_ARCHITECTURE.ipynb\" target=\"_parent\"><img src=\"https://colab.research.google.com/assets/colab-badge.svg\" alt=\"Open In Colab\"/></a>"
      ]
    },
    {
      "cell_type": "markdown",
      "source": [
        "# **ASSIGNMENT 4** ARCHITECTURE OF CNN MODELS"
      ],
      "metadata": {
        "id": "GKbhcSkjoQ3D"
      }
    },
    {
      "cell_type": "code",
      "execution_count": 1,
      "metadata": {
        "colab": {
          "base_uri": "https://localhost:8080/"
        },
        "id": "mtUk9P7poKA_",
        "outputId": "62ef51df-6f2b-4f43-f381-68e84280fcc4"
      },
      "outputs": [
        {
          "output_type": "stream",
          "name": "stdout",
          "text": [
            "Collecting keras.applications\n",
            "  Downloading Keras_Applications-1.0.8-py3-none-any.whl (50 kB)\n",
            "\u001b[?25l\r\u001b[K     |██████▌                         | 10 kB 20.1 MB/s eta 0:00:01\r\u001b[K     |█████████████                   | 20 kB 23.9 MB/s eta 0:00:01\r\u001b[K     |███████████████████▍            | 30 kB 11.3 MB/s eta 0:00:01\r\u001b[K     |█████████████████████████▉      | 40 kB 7.9 MB/s eta 0:00:01\r\u001b[K     |████████████████████████████████| 50 kB 3.1 MB/s \n",
            "\u001b[?25hRequirement already satisfied: numpy>=1.9.1 in /usr/local/lib/python3.7/dist-packages (from keras.applications) (1.21.5)\n",
            "Requirement already satisfied: h5py in /usr/local/lib/python3.7/dist-packages (from keras.applications) (3.1.0)\n",
            "Requirement already satisfied: cached-property in /usr/local/lib/python3.7/dist-packages (from h5py->keras.applications) (1.5.2)\n",
            "Installing collected packages: keras.applications\n",
            "Successfully installed keras.applications-1.0.8\n"
          ]
        }
      ],
      "source": [
        "!pip install keras.applications"
      ]
    },
    {
      "cell_type": "markdown",
      "source": [
        "# **Model 1:ResNet50**"
      ],
      "metadata": {
        "id": "7lKqPQUMp3Mh"
      }
    },
    {
      "cell_type": "code",
      "source": [
        "from tensorflow.keras.applications import ResNet50\n",
        "from keras.preprocessing import image\n",
        "from tensorflow.keras.applications.resnet50 import preprocess_input, decode_predictions\n",
        "from tensorflow.keras.applications import vgg16,inception_v3,resnet50\n",
        "import numpy as np\n",
        "import matplotlib.pyplot as plt"
      ],
      "metadata": {
        "id": "J4DhCn39o2o0"
      },
      "execution_count": 2,
      "outputs": []
    },
    {
      "cell_type": "code",
      "source": [
        "resnet_model = ResNet50(weights='imagenet')"
      ],
      "metadata": {
        "id": "pfWM5sbjo2r6",
        "colab": {
          "base_uri": "https://localhost:8080/"
        },
        "outputId": "95a80d96-2c09-4be5-dd0e-83de3ab5ec23"
      },
      "execution_count": 3,
      "outputs": [
        {
          "output_type": "stream",
          "name": "stdout",
          "text": [
            "Downloading data from https://storage.googleapis.com/tensorflow/keras-applications/resnet/resnet50_weights_tf_dim_ordering_tf_kernels.h5\n",
            "102973440/102967424 [==============================] - 1s 0us/step\n",
            "102981632/102967424 [==============================] - 1s 0us/step\n"
          ]
        }
      ]
    },
    {
      "cell_type": "code",
      "source": [
        "i=image.load_img(\"/content/lotus.jpg\",target_size=(224,224))\n",
        "x=image.img_to_array(i)\n",
        "print(x.shape)"
      ],
      "metadata": {
        "colab": {
          "base_uri": "https://localhost:8080/"
        },
        "id": "EdGji3PKo2u9",
        "outputId": "56ff513a-41e3-4d80-a5c1-3b2cbcb39fdd"
      },
      "execution_count": 5,
      "outputs": [
        {
          "output_type": "stream",
          "name": "stdout",
          "text": [
            "(224, 224, 3)\n"
          ]
        }
      ]
    },
    {
      "cell_type": "code",
      "source": [
        "#expand the dimension\n",
        "x=np.expand_dims(x,axis=0)\n",
        "print(x.shape)"
      ],
      "metadata": {
        "colab": {
          "base_uri": "https://localhost:8080/"
        },
        "id": "F-ONxq3Bo2xq",
        "outputId": "8261af86-6b97-48cf-87f8-afd59095aa3e"
      },
      "execution_count": 6,
      "outputs": [
        {
          "output_type": "stream",
          "name": "stdout",
          "text": [
            "(1, 224, 224, 3)\n"
          ]
        }
      ]
    },
    {
      "cell_type": "code",
      "source": [
        "x = preprocess_input(x)"
      ],
      "metadata": {
        "id": "aKAdYJtuo20o"
      },
      "execution_count": 7,
      "outputs": []
    },
    {
      "cell_type": "code",
      "source": [
        "#prediction\n",
        "preds = resnet_model.predict(x)"
      ],
      "metadata": {
        "id": "ehU3VQ-Go22_"
      },
      "execution_count": 8,
      "outputs": []
    },
    {
      "cell_type": "code",
      "source": [
        "pred=decode_predictions(preds,top=5)\n",
        "print(\"pred:\",decode_predictions(preds,top=5)[0])\n",
        "type(pred)"
      ],
      "metadata": {
        "colab": {
          "base_uri": "https://localhost:8080/"
        },
        "id": "t-qNx67qwfMJ",
        "outputId": "a46d8633-10a7-4d3d-fded-b6da211f35c4"
      },
      "execution_count": 10,
      "outputs": [
        {
          "output_type": "stream",
          "name": "stdout",
          "text": [
            "pred: [('n03991062', 'pot', 0.8160189), ('n11939491', 'daisy', 0.10802213), ('n03944341', 'pinwheel', 0.014678368), ('n12620546', 'hip', 0.012444131), ('n04476259', 'tray', 0.0068283216)]\n"
          ]
        },
        {
          "output_type": "execute_result",
          "data": {
            "text/plain": [
              "list"
            ]
          },
          "metadata": {},
          "execution_count": 10
        }
      ]
    },
    {
      "cell_type": "markdown",
      "source": [
        "# **Model 2:resnet101**"
      ],
      "metadata": {
        "id": "BgP9ke5Mu_rR"
      }
    },
    {
      "cell_type": "code",
      "source": [
        "from tensorflow.keras.applications import ResNet101"
      ],
      "metadata": {
        "id": "jp-p-TitvIs6"
      },
      "execution_count": 11,
      "outputs": []
    },
    {
      "cell_type": "code",
      "source": [
        "resnet_model2 = ResNet101(weights='imagenet')"
      ],
      "metadata": {
        "colab": {
          "base_uri": "https://localhost:8080/"
        },
        "id": "JY8R8kx-vIvu",
        "outputId": "49850409-db69-4572-e365-9c731f024a1e"
      },
      "execution_count": 12,
      "outputs": [
        {
          "output_type": "stream",
          "name": "stdout",
          "text": [
            "Downloading data from https://storage.googleapis.com/tensorflow/keras-applications/resnet/resnet101_weights_tf_dim_ordering_tf_kernels.h5\n",
            "179650560/179648224 [==============================] - 1s 0us/step\n",
            "179658752/179648224 [==============================] - 1s 0us/step\n"
          ]
        }
      ]
    },
    {
      "cell_type": "code",
      "source": [
        "i2=image.load_img(\"/content/lotus.jpg\",target_size=(224,224))\n",
        "x1=image.img_to_array(i2)\n",
        "print(x1.shape)"
      ],
      "metadata": {
        "colab": {
          "base_uri": "https://localhost:8080/"
        },
        "id": "t4BtSKKcvIyp",
        "outputId": "da42d0cd-6f78-477b-e387-5c54eab98be4"
      },
      "execution_count": 13,
      "outputs": [
        {
          "output_type": "stream",
          "name": "stdout",
          "text": [
            "(224, 224, 3)\n"
          ]
        }
      ]
    },
    {
      "cell_type": "code",
      "source": [
        "x1=np.expand_dims(x1,axis=0)\n",
        "print(x1.shape)"
      ],
      "metadata": {
        "colab": {
          "base_uri": "https://localhost:8080/"
        },
        "id": "8XPg6owMvI1l",
        "outputId": "f21a77d3-03d0-477d-bed8-26d9810a2350"
      },
      "execution_count": 14,
      "outputs": [
        {
          "output_type": "stream",
          "name": "stdout",
          "text": [
            "(1, 224, 224, 3)\n"
          ]
        }
      ]
    },
    {
      "cell_type": "code",
      "source": [
        "x1=preprocess_input(x1)"
      ],
      "metadata": {
        "id": "gn2Wv7O7vI4K"
      },
      "execution_count": 15,
      "outputs": []
    },
    {
      "cell_type": "code",
      "source": [
        "preds1=resnet_model2.predict(x1)"
      ],
      "metadata": {
        "id": "CyRMd3HMvI68"
      },
      "execution_count": 16,
      "outputs": []
    },
    {
      "cell_type": "code",
      "source": [
        "pred1=decode_predictions(preds1,top=5)\n",
        "print(\"pred:\",decode_predictions(preds1,top=5)[0])\n",
        "type(pred1)"
      ],
      "metadata": {
        "colab": {
          "base_uri": "https://localhost:8080/"
        },
        "id": "pJwGHqKdvI-N",
        "outputId": "359c0035-8b00-4019-d47a-b60b54f22e39"
      },
      "execution_count": 17,
      "outputs": [
        {
          "output_type": "stream",
          "name": "stdout",
          "text": [
            "pred: [('n03991062', 'pot', 0.8843452), ('n03930313', 'picket_fence', 0.0327877), ('n11939491', 'daisy', 0.022912916), ('n12620546', 'hip', 0.011354166), ('n02219486', 'ant', 0.007930712)]\n"
          ]
        },
        {
          "output_type": "execute_result",
          "data": {
            "text/plain": [
              "list"
            ]
          },
          "metadata": {},
          "execution_count": 17
        }
      ]
    },
    {
      "cell_type": "code",
      "source": [
        ""
      ],
      "metadata": {
        "id": "thjH870ZvJAz"
      },
      "execution_count": 17,
      "outputs": []
    },
    {
      "cell_type": "markdown",
      "source": [
        "# **Model 3:vgg16**"
      ],
      "metadata": {
        "id": "-38Mjnu13yh9"
      }
    },
    {
      "cell_type": "code",
      "source": [
        "from tensorflow.keras.applications import VGG16"
      ],
      "metadata": {
        "id": "EYrGL6ZI31K5"
      },
      "execution_count": 18,
      "outputs": []
    },
    {
      "cell_type": "code",
      "source": [
        "vggModel=VGG16(weights='imagenet')"
      ],
      "metadata": {
        "colab": {
          "base_uri": "https://localhost:8080/"
        },
        "id": "0TTkH9SX31Rz",
        "outputId": "8b0ad698-7e7d-497c-aa93-69b9fcae8fa3"
      },
      "execution_count": 19,
      "outputs": [
        {
          "output_type": "stream",
          "name": "stdout",
          "text": [
            "Downloading data from https://storage.googleapis.com/tensorflow/keras-applications/vgg16/vgg16_weights_tf_dim_ordering_tf_kernels.h5\n",
            "553467904/553467096 [==============================] - 4s 0us/step\n",
            "553476096/553467096 [==============================] - 4s 0us/step\n"
          ]
        }
      ]
    },
    {
      "cell_type": "code",
      "source": [
        "i3=image.load_img(\"/content/lotus.jpg\",target_size=(224,224))\n",
        "x3=image.img_to_array(i3)\n",
        "print(x3.shape)"
      ],
      "metadata": {
        "colab": {
          "base_uri": "https://localhost:8080/"
        },
        "id": "3AKlDEEB31VN",
        "outputId": "c672edbd-7072-4b95-b1fc-444abf00335d"
      },
      "execution_count": 20,
      "outputs": [
        {
          "output_type": "stream",
          "name": "stdout",
          "text": [
            "(224, 224, 3)\n"
          ]
        }
      ]
    },
    {
      "cell_type": "code",
      "source": [
        "x3=np.expand_dims(x3,axis=0)\n",
        "print(x3.shape)"
      ],
      "metadata": {
        "colab": {
          "base_uri": "https://localhost:8080/"
        },
        "id": "-NE-Uwap31YH",
        "outputId": "e1dd0923-c6e7-42ad-bb72-8746cfa9aba3"
      },
      "execution_count": 21,
      "outputs": [
        {
          "output_type": "stream",
          "name": "stdout",
          "text": [
            "(1, 224, 224, 3)\n"
          ]
        }
      ]
    },
    {
      "cell_type": "code",
      "source": [
        "x3=preprocess_input(x3)"
      ],
      "metadata": {
        "id": "9I00O5XX5ffq"
      },
      "execution_count": 22,
      "outputs": []
    },
    {
      "cell_type": "code",
      "source": [
        "preds3=vggModel.predict(x3)"
      ],
      "metadata": {
        "id": "XsEVo7x55fl2"
      },
      "execution_count": 23,
      "outputs": []
    },
    {
      "cell_type": "code",
      "source": [
        "pred3=decode_predictions(preds3,top=5)\n",
        "print(\"pred:\",decode_predictions(preds3,top=5)[0])\n",
        "type(pred3)"
      ],
      "metadata": {
        "colab": {
          "base_uri": "https://localhost:8080/"
        },
        "id": "FN2HcBcb5fo_",
        "outputId": "e5343d73-752d-4cc4-d4bc-2cba0d50abe6"
      },
      "execution_count": 24,
      "outputs": [
        {
          "output_type": "stream",
          "name": "stdout",
          "text": [
            "pred: [('n03991062', 'pot', 0.32884282), ('n03930313', 'picket_fence', 0.14262208), ('n04522168', 'vase', 0.07543107), ('n02206856', 'bee', 0.05799297), ('n11939491', 'daisy', 0.03587155)]\n"
          ]
        },
        {
          "output_type": "execute_result",
          "data": {
            "text/plain": [
              "list"
            ]
          },
          "metadata": {},
          "execution_count": 24
        }
      ]
    },
    {
      "cell_type": "markdown",
      "source": [
        "# **Model 4: VGG19**"
      ],
      "metadata": {
        "id": "fQGjngkQ57e6"
      }
    },
    {
      "cell_type": "code",
      "source": [
        "from  tensorflow.keras.applications import VGG19"
      ],
      "metadata": {
        "id": "ekd5_pqq58Dt"
      },
      "execution_count": 25,
      "outputs": []
    },
    {
      "cell_type": "code",
      "source": [
        "vgg19Model=VGG19(weights='imagenet')"
      ],
      "metadata": {
        "id": "vNkY6F3f6LM0",
        "colab": {
          "base_uri": "https://localhost:8080/"
        },
        "outputId": "84e668a4-aee3-4c9c-b738-5973427a56d6"
      },
      "execution_count": 26,
      "outputs": [
        {
          "output_type": "stream",
          "name": "stdout",
          "text": [
            "Downloading data from https://storage.googleapis.com/tensorflow/keras-applications/vgg19/vgg19_weights_tf_dim_ordering_tf_kernels.h5\n",
            "574717952/574710816 [==============================] - 4s 0us/step\n",
            "574726144/574710816 [==============================] - 5s 0us/step\n"
          ]
        }
      ]
    },
    {
      "cell_type": "code",
      "source": [
        "i4=image.load_img(\"/content/lotus.jpg\",target_size=(224,224))\n",
        "x4=image.img_to_array(i4)\n",
        "print(x4.shape)"
      ],
      "metadata": {
        "colab": {
          "base_uri": "https://localhost:8080/"
        },
        "id": "f_rbFm-p6LPf",
        "outputId": "0692fab5-0ef7-48b1-c1d5-2387f2f4a107"
      },
      "execution_count": 27,
      "outputs": [
        {
          "output_type": "stream",
          "name": "stdout",
          "text": [
            "(224, 224, 3)\n"
          ]
        }
      ]
    },
    {
      "cell_type": "code",
      "source": [
        "x4=np.expand_dims(x4,axis=0)\n",
        "print(x4.shape)"
      ],
      "metadata": {
        "colab": {
          "base_uri": "https://localhost:8080/"
        },
        "id": "5i19y9xG6LRx",
        "outputId": "02f2ade5-3e56-43de-e139-bb649191f903"
      },
      "execution_count": 28,
      "outputs": [
        {
          "output_type": "stream",
          "name": "stdout",
          "text": [
            "(1, 224, 224, 3)\n"
          ]
        }
      ]
    },
    {
      "cell_type": "code",
      "source": [
        "x4=preprocess_input(x4)"
      ],
      "metadata": {
        "id": "xGrIhKJl6LUA"
      },
      "execution_count": 29,
      "outputs": []
    },
    {
      "cell_type": "code",
      "source": [
        "preds4=vgg19Model.predict(x4)"
      ],
      "metadata": {
        "id": "QUGFxKrb6LWT"
      },
      "execution_count": 30,
      "outputs": []
    },
    {
      "cell_type": "code",
      "source": [
        "pred4=decode_predictions(preds4,top=5)\n",
        "print(\"pred:\",decode_predictions(preds4,top=5)[0])\n",
        "type(pred4)"
      ],
      "metadata": {
        "colab": {
          "base_uri": "https://localhost:8080/"
        },
        "id": "gfp_Luom6LYQ",
        "outputId": "3165d3ad-7758-4e26-fb64-38ccb8ccb0a5"
      },
      "execution_count": 31,
      "outputs": [
        {
          "output_type": "stream",
          "name": "stdout",
          "text": [
            "pred: [('n03930313', 'picket_fence', 0.26507998), ('n03991062', 'pot', 0.18069679), ('n04522168', 'vase', 0.06589559), ('n02281406', 'sulphur_butterfly', 0.061317027), ('n11939491', 'daisy', 0.053196546)]\n"
          ]
        },
        {
          "output_type": "execute_result",
          "data": {
            "text/plain": [
              "list"
            ]
          },
          "metadata": {},
          "execution_count": 31
        }
      ]
    },
    {
      "cell_type": "markdown",
      "source": [
        "# **Model 5: ResNet152**"
      ],
      "metadata": {
        "id": "EMqY6gvR57iU"
      }
    },
    {
      "cell_type": "code",
      "source": [
        "from  tensorflow.keras.applications import ResNet152"
      ],
      "metadata": {
        "id": "WBAd5ao26082"
      },
      "execution_count": 32,
      "outputs": []
    },
    {
      "cell_type": "code",
      "source": [
        "Modelresnet152=ResNet152(weights='imagenet')"
      ],
      "metadata": {
        "id": "zDe-dtJQ60_k",
        "colab": {
          "base_uri": "https://localhost:8080/"
        },
        "outputId": "e0032aa6-db4c-4b9a-b505-0dd5c56a3f51"
      },
      "execution_count": 33,
      "outputs": [
        {
          "output_type": "stream",
          "name": "stdout",
          "text": [
            "Downloading data from https://storage.googleapis.com/tensorflow/keras-applications/resnet/resnet152_weights_tf_dim_ordering_tf_kernels.h5\n",
            "242900992/242900224 [==============================] - 2s 0us/step\n",
            "242909184/242900224 [==============================] - 2s 0us/step\n"
          ]
        }
      ]
    },
    {
      "cell_type": "code",
      "source": [
        "i5=image.load_img(\"/content/lotus.jpg\",target_size=(224,224))\n",
        "x5=image.img_to_array(i5)\n",
        "print(x5.shape)"
      ],
      "metadata": {
        "colab": {
          "base_uri": "https://localhost:8080/"
        },
        "id": "fesrQajD61CK",
        "outputId": "afa515f8-3187-472c-92b8-fa0e6890827e"
      },
      "execution_count": 34,
      "outputs": [
        {
          "output_type": "stream",
          "name": "stdout",
          "text": [
            "(224, 224, 3)\n"
          ]
        }
      ]
    },
    {
      "cell_type": "code",
      "source": [
        "x5=np.expand_dims(x5,axis=0)\n",
        "print(x5.shape)"
      ],
      "metadata": {
        "colab": {
          "base_uri": "https://localhost:8080/"
        },
        "id": "o1uwtkvq61Eg",
        "outputId": "0ee720e2-4f7c-46a0-8b85-46aaac677737"
      },
      "execution_count": 35,
      "outputs": [
        {
          "output_type": "stream",
          "name": "stdout",
          "text": [
            "(1, 224, 224, 3)\n"
          ]
        }
      ]
    },
    {
      "cell_type": "code",
      "source": [
        "x5=preprocess_input(x5)"
      ],
      "metadata": {
        "id": "qP_QS0Qi61G5"
      },
      "execution_count": 36,
      "outputs": []
    },
    {
      "cell_type": "code",
      "source": [
        "preds5=Modelresnet152.predict(x5)"
      ],
      "metadata": {
        "colab": {
          "base_uri": "https://localhost:8080/"
        },
        "id": "JsQjvLuc61Jg",
        "outputId": "0d4a848b-f0d5-499f-f2c2-47bc4ed6154f"
      },
      "execution_count": 37,
      "outputs": [
        {
          "output_type": "stream",
          "name": "stdout",
          "text": [
            "WARNING:tensorflow:5 out of the last 5 calls to <function Model.make_predict_function.<locals>.predict_function at 0x7f4d7e183ef0> triggered tf.function retracing. Tracing is expensive and the excessive number of tracings could be due to (1) creating @tf.function repeatedly in a loop, (2) passing tensors with different shapes, (3) passing Python objects instead of tensors. For (1), please define your @tf.function outside of the loop. For (2), @tf.function has experimental_relax_shapes=True option that relaxes argument shapes that can avoid unnecessary retracing. For (3), please refer to https://www.tensorflow.org/guide/function#controlling_retracing and https://www.tensorflow.org/api_docs/python/tf/function for  more details.\n"
          ]
        }
      ]
    },
    {
      "cell_type": "code",
      "source": [
        "pred5=decode_predictions(preds5,top=5)\n",
        "print(\"pred:\",decode_predictions(preds5,top=5)[0])"
      ],
      "metadata": {
        "colab": {
          "base_uri": "https://localhost:8080/"
        },
        "id": "69GK5eRE61MG",
        "outputId": "c8aa4ae1-4e12-44f2-b797-4185f6b9199e"
      },
      "execution_count": 38,
      "outputs": [
        {
          "output_type": "stream",
          "name": "stdout",
          "text": [
            "pred: [('n03991062', 'pot', 0.6271288), ('n07745940', 'strawberry', 0.13861218), ('n12620546', 'hip', 0.11958534), ('n11939491', 'daisy', 0.06013048), ('n03930313', 'picket_fence', 0.022704015)]\n"
          ]
        }
      ]
    },
    {
      "cell_type": "markdown",
      "source": [
        "# **MODEL 6:InceptionV3**"
      ],
      "metadata": {
        "id": "NlbfEKUq-3Bz"
      }
    },
    {
      "cell_type": "code",
      "source": [
        "from tensorflow.keras.applications.inception_v3 import InceptionV3"
      ],
      "metadata": {
        "id": "STxRNZEa_Asp"
      },
      "execution_count": 39,
      "outputs": []
    },
    {
      "cell_type": "code",
      "source": [
        "base_model = InceptionV3(weights='imagenet')"
      ],
      "metadata": {
        "id": "9ekEuMmj_App",
        "colab": {
          "base_uri": "https://localhost:8080/"
        },
        "outputId": "fed94854-297b-49a1-90cb-42f0cafa1507"
      },
      "execution_count": 40,
      "outputs": [
        {
          "output_type": "stream",
          "name": "stdout",
          "text": [
            "Downloading data from https://storage.googleapis.com/tensorflow/keras-applications/inception_v3/inception_v3_weights_tf_dim_ordering_tf_kernels.h5\n",
            "96116736/96112376 [==============================] - 1s 0us/step\n",
            "96124928/96112376 [==============================] - 1s 0us/step\n"
          ]
        }
      ]
    },
    {
      "cell_type": "code",
      "source": [
        "i6=image.load_img(\"/content/butterfly.jpg\",target_size=(299,299))\n",
        "x6=image.img_to_array(i6)\n",
        "print(x6.shape)"
      ],
      "metadata": {
        "colab": {
          "base_uri": "https://localhost:8080/"
        },
        "id": "4iVcQ8cx_Am1",
        "outputId": "bd2da6af-f3a2-459a-caab-2fea2bfc4f4c"
      },
      "execution_count": 43,
      "outputs": [
        {
          "output_type": "stream",
          "name": "stdout",
          "text": [
            "(299, 299, 3)\n"
          ]
        }
      ]
    },
    {
      "cell_type": "code",
      "source": [
        "x6=np.expand_dims(x6,axis=0)\n",
        "print(x6.shape)"
      ],
      "metadata": {
        "colab": {
          "base_uri": "https://localhost:8080/"
        },
        "id": "ID773taS_doc",
        "outputId": "4ca060b9-f89f-46f1-e223-cbc8d6e1441f"
      },
      "execution_count": 44,
      "outputs": [
        {
          "output_type": "stream",
          "name": "stdout",
          "text": [
            "(1, 299, 299, 3)\n"
          ]
        }
      ]
    },
    {
      "cell_type": "code",
      "source": [
        "x6=preprocess_input(x6)"
      ],
      "metadata": {
        "id": "816nIUfD_drL"
      },
      "execution_count": 45,
      "outputs": []
    },
    {
      "cell_type": "code",
      "source": [
        "preds6=base_model.predict(x6)"
      ],
      "metadata": {
        "id": "vyfg8lly_rW8",
        "colab": {
          "base_uri": "https://localhost:8080/"
        },
        "outputId": "afe043db-844f-4448-eea6-94e3d9588d20"
      },
      "execution_count": 46,
      "outputs": [
        {
          "output_type": "stream",
          "name": "stdout",
          "text": [
            "WARNING:tensorflow:6 out of the last 6 calls to <function Model.make_predict_function.<locals>.predict_function at 0x7f4d7e5f4290> triggered tf.function retracing. Tracing is expensive and the excessive number of tracings could be due to (1) creating @tf.function repeatedly in a loop, (2) passing tensors with different shapes, (3) passing Python objects instead of tensors. For (1), please define your @tf.function outside of the loop. For (2), @tf.function has experimental_relax_shapes=True option that relaxes argument shapes that can avoid unnecessary retracing. For (3), please refer to https://www.tensorflow.org/guide/function#controlling_retracing and https://www.tensorflow.org/api_docs/python/tf/function for  more details.\n"
          ]
        }
      ]
    },
    {
      "cell_type": "code",
      "source": [
        "pred6=decode_predictions(preds6,top=5)\n",
        "print(\"pred:\",decode_predictions(preds6,top=5)[0])"
      ],
      "metadata": {
        "id": "Ojk4QU4r_rZy",
        "colab": {
          "base_uri": "https://localhost:8080/"
        },
        "outputId": "51a39b1a-604d-4509-e267-3d4d1291b3d1"
      },
      "execution_count": 47,
      "outputs": [
        {
          "output_type": "stream",
          "name": "stdout",
          "text": [
            "pred: [('n06359193', 'web_site', 1.0), ('n03950228', 'pitcher', 2.2543626e-13), ('n04141076', 'sax', 1.451589e-13), ('n04355933', 'sunglass', 6.529086e-14), ('n02447366', 'badger', 4.6910243e-14)]\n"
          ]
        }
      ]
    }
  ]
}